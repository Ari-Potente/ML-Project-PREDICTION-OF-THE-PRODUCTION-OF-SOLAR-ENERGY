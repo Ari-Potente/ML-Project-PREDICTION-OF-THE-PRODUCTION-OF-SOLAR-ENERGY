{
 "cells": [
  {
   "attachments": {},
   "cell_type": "markdown",
   "metadata": {},
   "source": [
    "# Predicciones con el modelo final\n",
    "\n",
    "En este notebook cargamos el modelo final (ya entrenado) y lo usamos para hacer predicciones en los datos de la competición."
   ]
  },
  {
   "cell_type": "code",
   "execution_count": 22,
   "metadata": {},
   "outputs": [],
   "source": [
    "# Librerías generales para las operaciones\n",
    "import pandas as pd\n",
    "import numpy as np\n",
    "import pickle\n",
    "import csv\n",
    "\n",
    "# Warnings\n",
    "import warnings\n",
    "warnings.filterwarnings('ignore')\n"
   ]
  },
  {
   "cell_type": "code",
   "execution_count": 23,
   "metadata": {},
   "outputs": [],
   "source": [
    "# Abre el archivo en modo de lectura binaria\n",
    "with open('modelo_final.pkl', 'rb') as archivo:\n",
    "    # Carga los datos del archivo en una variable\n",
    "    modelo_final = pickle.load(archivo)"
   ]
  },
  {
   "attachments": {},
   "cell_type": "markdown",
   "metadata": {},
   "source": [
    "Leemos los datos de competición y creamos un DataFrame con ellos. "
   ]
  },
  {
   "cell_type": "code",
   "execution_count": 24,
   "metadata": {},
   "outputs": [
    {
     "name": "stdout",
     "output_type": "stream",
     "text": [
      "<class 'pandas.core.frame.DataFrame'>\n",
      "<class 'numpy.ndarray'>\n"
     ]
    }
   ],
   "source": [
    "comp_df = pd.read_csv(\"comp_st12ns1.txt.bz2\",compression=\"bz2\",index_col=0)\n",
    "print(type(comp_df))\n",
    "\n",
    "comp_df_numpy = comp_df.to_numpy()\n",
    "print(type(comp_df_numpy))"
   ]
  },
  {
   "attachments": {},
   "cell_type": "markdown",
   "metadata": {},
   "source": [
    "Realizamos las predicciones con los datos de competición y el modelo final ya cargado."
   ]
  },
  {
   "cell_type": "code",
   "execution_count": 25,
   "metadata": {},
   "outputs": [
    {
     "name": "stdout",
     "output_type": "stream",
     "text": [
      "<class 'numpy.ndarray'>\n"
     ]
    }
   ],
   "source": [
    "predicciones_modelofinal = modelo_final.predict(comp_df_numpy)\n",
    "print(type(predicciones_modelofinal))"
   ]
  },
  {
   "attachments": {},
   "cell_type": "markdown",
   "metadata": {},
   "source": [
    "Guardamos las predicciones en un fichero (llamado «predicciones.csv»)."
   ]
  },
  {
   "cell_type": "code",
   "execution_count": 26,
   "metadata": {},
   "outputs": [],
   "source": [
    "csv_filename = \"predicciones.csv\"\n",
    "with open(csv_filename, 'w') as file:\n",
    "    escritor_csv = csv.writer(file, delimiter = \";\")\n",
    "\n",
    "    #Escribimos las predicciones\n",
    "    for fila in predicciones_modelofinal:\n",
    "        escritor_csv.writerow([fila])\n",
    "\n",
    "# Cerramos el archivo\n",
    "file.close()"
   ]
  }
 ],
 "metadata": {
  "kernelspec": {
   "display_name": "base",
   "language": "python",
   "name": "python3"
  },
  "language_info": {
   "codemirror_mode": {
    "name": "ipython",
    "version": 3
   },
   "file_extension": ".py",
   "mimetype": "text/x-python",
   "name": "python",
   "nbconvert_exporter": "python",
   "pygments_lexer": "ipython3",
   "version": "3.10.9"
  },
  "orig_nbformat": 4
 },
 "nbformat": 4,
 "nbformat_minor": 2
}
